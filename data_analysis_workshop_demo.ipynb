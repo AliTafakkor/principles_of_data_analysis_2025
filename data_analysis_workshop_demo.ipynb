{
 "cells": [
  {
   "cell_type": "markdown",
   "id": "2e81af98",
   "metadata": {},
   "source": [
    "# Principles of Data Analysis – Demo 1\n",
    "**Behavioral • EEG • fMRI** "
   ]
  },
  {
   "cell_type": "markdown",
   "id": "5c119254",
   "metadata": {},
   "source": [
    "\n",
    "## Workshop Road‑Map\n",
    "1. Generate *synthetic* datasets for three modalities  \n",
    "2. Visualise raw data (signal **&** noise)  \n",
    "3. Clean / pre‑process step‑by‑step with quality‑control plots  \n",
    "4. (Bonus) Fit a very small GLM to each cleaned dataset\n"
   ]
  },
  {
   "cell_type": "code",
   "execution_count": null,
   "id": "d72681ad",
   "metadata": {},
   "outputs": [],
   "source": [
    "\n",
    "# --- Imports & Settings ---\n",
    "import numpy as np\n",
    "import pandas as pd\n",
    "import matplotlib.pyplot as plt\n",
    "from scipy import signal\n",
    "%matplotlib inline\n",
    "plt.rcParams['figure.figsize'] = (8,4)\n",
    "np.random.seed(42)\n"
   ]
  },
  {
   "cell_type": "markdown",
   "id": "087661e7",
   "metadata": {},
   "source": [
    "## 1. Behavioural data: reaction times"
   ]
  },
  {
   "cell_type": "code",
   "execution_count": null,
   "id": "5f256297",
   "metadata": {},
   "outputs": [],
   "source": [
    "\n",
    "# Generate synthetic RTs\n",
    "n = 300\n",
    "rt = np.random.normal(500, 80, n)\n",
    "\n",
    "# Add anticipations (<150 ms) and slow outliers (>800 ms)\n",
    "anticip_idx = np.random.choice(n, 10, replace=False)\n",
    "slow_idx = np.random.choice(list(set(range(n)) - set(anticip_idx)), 10, replace=False)\n",
    "rt[anticip_idx] = np.random.normal(120, 15, size=len(anticip_idx))\n",
    "rt[slow_idx] = np.random.normal(900, 50, size=len(slow_idx))\n",
    "\n",
    "rt_df = pd.DataFrame({'RT_ms': rt})\n",
    "rt_df.head()\n"
   ]
  },
  {
   "cell_type": "markdown",
   "id": "a27e15d8",
   "metadata": {},
   "source": [
    "**QC‑1: raw distribution**"
   ]
  },
  {
   "cell_type": "code",
   "execution_count": null,
   "id": "6142e9bf",
   "metadata": {},
   "outputs": [],
   "source": [
    "\n",
    "plt.hist(rt_df['RT_ms'], bins=30)\n",
    "plt.xlabel('RT (ms)'); plt.ylabel('Count'); plt.title('Raw RT distribution');\n"
   ]
  },
  {
   "cell_type": "markdown",
   "id": "a5e0cc76",
   "metadata": {},
   "source": [
    "### Cleaning steps\n",
    "1. Drop anticipations (<150 ms)\n",
    "2. Winsorise > mean + 3 SD"
   ]
  },
  {
   "cell_type": "code",
   "execution_count": null,
   "id": "445ff5ff",
   "metadata": {},
   "outputs": [],
   "source": [
    "\n",
    "# Drop anticipations\n",
    "rt_clean = rt_df[rt_df['RT_ms'] >= 150].copy()\n",
    "\n",
    "# Winsorise high values\n",
    "upper = rt_clean['RT_ms'].mean() + 3*rt_clean['RT_ms'].std()\n",
    "rt_clean['RT_ms_wins'] = np.clip(rt_clean['RT_ms'], None, upper)\n",
    "\n",
    "rt_clean.describe()\n"
   ]
  },
  {
   "cell_type": "code",
   "execution_count": null,
   "id": "eadd4213",
   "metadata": {},
   "outputs": [],
   "source": [
    "\n",
    "plt.hist(rt_clean['RT_ms_wins'], bins=30)\n",
    "plt.xlabel('RT (ms)'); plt.ylabel('Count'); plt.title('Cleaned & Winsorised RTs');\n"
   ]
  },
  {
   "cell_type": "markdown",
   "id": "a2535af0",
   "metadata": {},
   "source": [
    "## 2. EEG: simulated ERP with blinks"
   ]
  },
  {
   "cell_type": "code",
   "execution_count": null,
   "id": "26cb5673",
   "metadata": {},
   "outputs": [],
   "source": [
    "\n",
    "# Simulate simple EEG waveform: 64 channels, 200 samples per trial, 120 trials\n",
    "fs = 250  # Hz\n",
    "t = np.arange(0, 0.8, 1/fs)  # 0‑800 ms\n",
    "n_ch, n_trials = 64, 120\n",
    "\n",
    "# Base ERP (sinusoid 10 Hz, decays)\n",
    "erp = np.sin(2*np.pi*10*t) * np.exp(-t*4)\n",
    "\n",
    "# Channel gains and noise\n",
    "data = np.zeros((n_ch, len(t), n_trials))\n",
    "for tr in range(n_trials):\n",
    "    noise = np.random.normal(0, 0.5, size=(n_ch, len(t)))\n",
    "    data[:,:,tr] = (erp + noise.T).T\n",
    "\n",
    "# Add blink artefact to Fp1 (channel 0) on 20% trials (large deflection)\n",
    "blink_trials = np.random.choice(n_trials, int(0.2*n_trials), replace=False)\n",
    "for tr in blink_trials:\n",
    "    blink = signal.gaussian(len(t), std=20) * 5  # sharp peak\n",
    "    data[0,:,tr] += blink\n",
    "\n",
    "# Average across trials\n",
    "erp_avg = data.mean(axis=2)\n"
   ]
  },
  {
   "cell_type": "markdown",
   "id": "631a9bf0",
   "metadata": {},
   "source": [
    "**QC‑2: raw vs filtered (band‑pass 1‑30 Hz) – channel Fp1**"
   ]
  },
  {
   "cell_type": "code",
   "execution_count": null,
   "id": "61cca724",
   "metadata": {},
   "outputs": [],
   "source": [
    "\n",
    "# Band‑pass filter\n",
    "sos = signal.butter(4, [1, 30], btype='band', fs=fs, output='sos')\n",
    "data_filt = signal.sosfiltfilt(sos, data, axis=1)\n",
    "erp_avg_filt = data_filt.mean(axis=2)\n",
    "\n",
    "plt.figure(figsize=(8,4))\n",
    "plt.plot(t*1e3, erp_avg[0], label='raw')\n",
    "plt.plot(t*1e3, erp_avg_filt[0], label='filtered')\n",
    "plt.xlabel('Time (ms)'); plt.ylabel('uV'); plt.legend(); plt.title('Average ERP – Fp1');\n"
   ]
  },
  {
   "cell_type": "markdown",
   "id": "807b5a92",
   "metadata": {},
   "source": [
    "## 3. fMRI: single‑voxel time‑series with motion spikes"
   ]
  },
  {
   "cell_type": "code",
   "execution_count": null,
   "id": "d6cc95f5",
   "metadata": {},
   "outputs": [],
   "source": [
    "\n",
    "# Simulate task design: 200 timepoints, TR=2s, blocks ON (20 TR) / OFF (20 TR)\n",
    "TR = 2.0\n",
    "n_tp = 200\n",
    "design = np.zeros(n_tp)\n",
    "for block_start in range(0, n_tp, 40):\n",
    "    design[block_start:block_start+20] = 1\n",
    "\n",
    "# Simple HRF: gamma\n",
    "hrf_t = np.arange(0, 32, TR)\n",
    "hrf = signal.gamma.pdf(hrf_t, 6)\n",
    "\n",
    "bold = np.convolve(design, hrf)[:n_tp]\n",
    "bold = (bold - bold.mean()) / bold.std()\n",
    "\n",
    "# Add noise\n",
    "bold += np.random.normal(0, 0.5, n_tp)\n",
    "\n",
    "# Add motion spikes at random points\n",
    "spike_idx = np.random.choice(n_tp, 6, replace=False)\n",
    "bold[spike_idx] += np.random.normal(3, 0.5, len(spike_idx))\n",
    "\n",
    "fig, ax = plt.subplots(figsize=(10,3))\n",
    "ax.plot(np.arange(n_tp)*TR, bold)\n",
    "ax.set_xlabel('Time (s)'); ax.set_title('Simulated fMRI voxel – raw');\n"
   ]
  },
  {
   "cell_type": "markdown",
   "id": "7b9efa9e",
   "metadata": {},
   "source": [
    "### Despiking & high‑pass filter (0.01 Hz)"
   ]
  },
  {
   "cell_type": "code",
   "execution_count": null,
   "id": "682e01c8",
   "metadata": {},
   "outputs": [],
   "source": [
    "\n",
    "# Despike by median absolute deviation threshold\n",
    "import statsmodels.api as sm\n",
    "mad = np.median(np.abs(bold - np.median(bold)))\n",
    "th = 6 * mad\n",
    "bold_despike = bold.copy()\n",
    "bold_despike[np.abs(bold_despike - np.median(bold)) > th] = np.median(bold)\n",
    "\n",
    "# High‑pass (butterworth) >0.01 Hz\n",
    "hp_sos = signal.butter(2, 0.01, btype='highpass', fs=1/TR, output='sos')\n",
    "bold_hp = signal.sosfiltfilt(hp_sos, bold_despike)\n",
    "\n",
    "plt.figure(figsize=(10,3))\n",
    "plt.plot(np.arange(n_tp)*TR, bold_hp)\n",
    "plt.xlabel('Time (s)'); plt.title('fMRI voxel – cleaned');\n"
   ]
  },
  {
   "cell_type": "markdown",
   "id": "5ad23fe3",
   "metadata": {},
   "source": [
    "### Quick GLM fit"
   ]
  },
  {
   "cell_type": "code",
   "execution_count": null,
   "id": "fae2aa5a",
   "metadata": {},
   "outputs": [],
   "source": [
    "\n",
    "import statsmodels.api as sm\n",
    "X = sm.add_constant(design)  # intercept + task regressor\n",
    "model = sm.OLS(bold_hp, X).fit()\n",
    "print(model.summary().tables[1])\n"
   ]
  }
 ],
 "metadata": {
  "kernelspec": {
   "display_name": "Python 3",
   "language": "python",
   "name": "python3"
  }
 },
 "nbformat": 4,
 "nbformat_minor": 5
}
