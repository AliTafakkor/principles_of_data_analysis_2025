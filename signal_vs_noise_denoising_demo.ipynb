{
 "cells": [
  {
   "cell_type": "markdown",
   "id": "cb0882a6",
   "metadata": {},
   "source": [
    "# Signal vs. Noise – Simulation Demo\n",
    "\n",
    "In this notebook, we simulate a signal+noise dataset and demonstrate how noise affects our ability to detect a true effect using a General Linear Model (GLM). We then apply a simple denoising method and re-fit the GLM."
   ]
  },
  {
   "cell_type": "markdown",
   "id": "b5f0eaac",
   "metadata": {},
   "source": [
    "## 1. Simulate signal + noise"
   ]
  },
  {
   "cell_type": "code",
   "execution_count": null,
   "id": "c11db4fa",
   "metadata": {},
   "outputs": [],
   "source": [
    "\n",
    "import numpy as np\n",
    "import pandas as pd\n",
    "import matplotlib.pyplot as plt\n",
    "import statsmodels.api as sm\n",
    "\n",
    "np.random.seed(42)\n",
    "\n",
    "# Parameters\n",
    "n = 200\n",
    "X = np.zeros(n)\n",
    "X[100:] = 1  # Step function: signal starts halfway through\n",
    "beta = 1.5   # true effect size\n",
    "\n",
    "# Generate signal\n",
    "signal = beta * X\n",
    "\n",
    "# Add moderate noise\n",
    "noise = np.random.normal(0, 1, n)\n",
    "Y = signal + noise\n",
    "\n",
    "# Visualize\n",
    "plt.plot(Y, label='Observed')\n",
    "plt.plot(signal, label='True Signal', linestyle='--')\n",
    "plt.xlabel('Time'); plt.ylabel('Response')\n",
    "plt.legend(); plt.title('Signal + Moderate Noise')\n",
    "plt.show()\n"
   ]
  },
  {
   "cell_type": "markdown",
   "id": "385118b6",
   "metadata": {},
   "source": [
    "## 2. Fit GLM to detect signal"
   ]
  },
  {
   "cell_type": "code",
   "execution_count": null,
   "id": "2ee15e74",
   "metadata": {},
   "outputs": [],
   "source": [
    "\n",
    "X_design = sm.add_constant(X)\n",
    "model = sm.OLS(Y, X_design).fit()\n",
    "print(model.summary())\n"
   ]
  },
  {
   "cell_type": "markdown",
   "id": "fe5998b2",
   "metadata": {},
   "source": [
    "## 3. Add stronger noise – effect becomes hard to detect"
   ]
  },
  {
   "cell_type": "code",
   "execution_count": null,
   "id": "81beb5ea",
   "metadata": {},
   "outputs": [],
   "source": [
    "\n",
    "# Add stronger noise\n",
    "noise_heavy = np.random.normal(0, 4, n)\n",
    "Y_noisy = signal + noise_heavy\n",
    "\n",
    "plt.plot(Y_noisy, label='Observed (noisy)')\n",
    "plt.plot(signal, label='True Signal', linestyle='--')\n",
    "plt.xlabel('Time'); plt.ylabel('Response')\n",
    "plt.legend(); plt.title('Signal + High Noise')\n",
    "plt.show()\n",
    "\n",
    "# Re-fit GLM\n",
    "model_noisy = sm.OLS(Y_noisy, X_design).fit()\n",
    "print(model_noisy.summary())\n"
   ]
  },
  {
   "cell_type": "markdown",
   "id": "cdf1c9cd",
   "metadata": {},
   "source": [
    "## 4. Denoising: Simple Moving Average"
   ]
  },
  {
   "cell_type": "code",
   "execution_count": null,
   "id": "99bfd1db",
   "metadata": {},
   "outputs": [],
   "source": [
    "\n",
    "# Moving average smoothing (window=5)\n",
    "Y_denoised = pd.Series(Y_noisy).rolling(5, center=True).mean().fillna(method='bfill').fillna(method='ffill')\n",
    "\n",
    "plt.plot(Y_denoised, label='Denoised')\n",
    "plt.plot(signal, label='True Signal', linestyle='--')\n",
    "plt.xlabel('Time'); plt.ylabel('Response')\n",
    "plt.legend(); plt.title('After Simple Denoising')\n",
    "plt.show()\n",
    "\n",
    "# Re-fit GLM\n",
    "model_denoised = sm.OLS(Y_denoised, X_design).fit()\n",
    "print(model_denoised.summary())\n"
   ]
  }
 ],
 "metadata": {},
 "nbformat": 4,
 "nbformat_minor": 5
}
